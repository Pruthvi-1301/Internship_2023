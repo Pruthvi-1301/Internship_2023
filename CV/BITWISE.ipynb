{
 "cells": [
  {
   "cell_type": "code",
   "execution_count": 37,
   "metadata": {},
   "outputs": [],
   "source": [
    "import cv2 as cv\n",
    "import matplotlib.pyplot as plt\n",
    "import numpy as np\n",
    "\n",
    "red = cv.imread(\"Red.png\")\n",
    "blue = cv.imread(\"Blue.png\")\n",
    "green = cv.imread(\"Green.png\")"
   ]
  },
  {
   "cell_type": "code",
   "execution_count": 38,
   "metadata": {},
   "outputs": [
    {
     "data": {
      "text/plain": [
       "False"
      ]
     },
     "execution_count": 38,
     "metadata": {},
     "output_type": "execute_result"
    }
   ],
   "source": [
    "#BITWISE AND\n",
    "AND = cv.bitwise_and(red, blue, mask=None)\n",
    "cv.imwrite(\"Output Image://RED AND BLUE.jpg\", AND)"
   ]
  },
  {
   "cell_type": "code",
   "execution_count": 39,
   "metadata": {},
   "outputs": [
    {
     "data": {
      "text/plain": [
       "False"
      ]
     },
     "execution_count": 39,
     "metadata": {},
     "output_type": "execute_result"
    }
   ],
   "source": [
    "#BITWISE OR\n",
    "OR = cv.bitwise_or(red, green, mask=None)\n",
    "cv.imwrite(\"Output Image://RED OR GREEN.jpg\", OR)"
   ]
  },
  {
   "cell_type": "code",
   "execution_count": 40,
   "metadata": {},
   "outputs": [
    {
     "data": {
      "text/plain": [
       "False"
      ]
     },
     "execution_count": 40,
     "metadata": {},
     "output_type": "execute_result"
    }
   ],
   "source": [
    "#BITWISE XOR\n",
    "XOR = cv.bitwise_xor(red, green, mask=None)\n",
    "cv.imwrite(\"Output Image://RED XOR GREEN.jpg\", XOR)"
   ]
  },
  {
   "cell_type": "code",
   "execution_count": 41,
   "metadata": {},
   "outputs": [
    {
     "data": {
      "text/plain": [
       "False"
      ]
     },
     "execution_count": 41,
     "metadata": {},
     "output_type": "execute_result"
    }
   ],
   "source": [
    "#BITWISE NOT\n",
    "NOT_1 = cv.bitwise_not(green, mask=None)\n",
    "cv.imwrite(\"Output Image://NOT GREEN.jpg\", NOT_1)\n",
    "NOT_2 = cv.bitwise_not(blue, mask=None)\n",
    "cv.imwrite(\"Output Image://NOT BLUE.jpg\", NOT_2)\n",
    "NOT_3 = cv.bitwise_not(red, mask=None)\n",
    "cv.imwrite(\"Output Image://NOT RED.jpg\", NOT_3)\n",
    "\n"
   ]
  }
 ],
 "metadata": {
  "kernelspec": {
   "display_name": "new_env",
   "language": "python",
   "name": "python3"
  },
  "language_info": {
   "codemirror_mode": {
    "name": "ipython",
    "version": 3
   },
   "file_extension": ".py",
   "mimetype": "text/x-python",
   "name": "python",
   "nbconvert_exporter": "python",
   "pygments_lexer": "ipython3",
   "version": "3.11.4"
  },
  "orig_nbformat": 4
 },
 "nbformat": 4,
 "nbformat_minor": 2
}
