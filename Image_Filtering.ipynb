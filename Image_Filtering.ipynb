{
 "cells": [
  {
   "cell_type": "code",
   "execution_count": null,
   "metadata": {},
   "outputs": [],
   "source": [
    "import cv2 as cv\n",
    "import numpy as np\n",
    "from matplotlib import pyplot as plt\n",
    "\n",
    "img = cv.imread('Filtering_Sample.jpg')\n",
    "fig = plt.figure()\n",
    "ax1 = fig.add_subplot(2,2,1)\n",
    "ax1.imshow(img)\n",
    "gray = cv.cvtColor(img, cv.COLOR_RGB2GRAY)\n",
    "ax2 = fig.add_subplot(2,2,2)\n",
    "ax2.imshow(gray)"
   ]
  },
  {
   "cell_type": "code",
   "execution_count": null,
   "metadata": {},
   "outputs": [],
   "source": [
    "#Gaussian Filter\n",
    "#Uses a Gaussian function\n",
    "#Eliminates Noise in low-light images\n",
    "gblur = cv.GaussianBlur(gray, (21, 21), 0)\n",
    "plt.imshow(gblur)"
   ]
  },
  {
   "cell_type": "code",
   "execution_count": null,
   "metadata": {},
   "outputs": [],
   "source": [
    "#Box Filter\n",
    "#Each pixel is the average of all surrounding pixels for each individual pixels\n",
    "\n",
    "box = cv.boxFilter(img, 2, (21, 21))\n",
    "plt.imshow(box)"
   ]
  },
  {
   "cell_type": "code",
   "execution_count": null,
   "metadata": {},
   "outputs": [],
   "source": [
    "#Laplacian Filter\n",
    "#Detects edges in Images\n",
    "\n",
    "lap = cv.Laplacian(img, cv.CV_16S, ksize=3)\n",
    "plt.imshow(lap)"
   ]
  },
  {
   "cell_type": "code",
   "execution_count": null,
   "metadata": {},
   "outputs": [],
   "source": [
    "#Median Blur\n",
    "#Used to remove salt and pepper noise\n",
    "\n",
    "img_2 = cv.imread(\"Salt_and_Pepper_Noise.jpg\")\n",
    "gray_2 = cv.cvtColor(img_2, cv.COLOR_RGB2GRAY)\n",
    "\n",
    "fig = plt.figure()\n",
    "med_blur = cv.medianBlur(gray_2, 3)\n",
    "\n",
    "ax1 = fig.add_subplot(2, 2, 1)\n",
    "ax1.imshow(med_blur)\n",
    "\n",
    "kernel = np.array([[0, -1, 0], [-1, 5, -1], [0, -1, 0]])\n",
    "sharpened = cv.filter2D(med_blur, -3, kernel)\n",
    "\n",
    "final = cv.cvtColor(gray_2, cv.COLOR_GRAY2BGR)\n",
    "ax2 = fig.add_subplot(2, 2, 2)\n",
    "ax2.imshow(final)"
   ]
  },
  {
   "cell_type": "code",
   "execution_count": null,
   "metadata": {},
   "outputs": [],
   "source": []
  }
 ],
 "metadata": {
  "kernelspec": {
   "display_name": "Python 3 (ipykernel)",
   "language": "python",
   "name": "python3"
  },
  "language_info": {
   "codemirror_mode": {
    "name": "ipython",
    "version": 3
   },
   "file_extension": ".py",
   "mimetype": "text/x-python",
   "name": "python",
   "nbconvert_exporter": "python",
   "pygments_lexer": "ipython3",
   "version": "3.9.17"
  }
 },
 "nbformat": 4,
 "nbformat_minor": 2
}
